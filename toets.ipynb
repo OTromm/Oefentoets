{
 "cells": [
  {
   "cell_type": "markdown",
   "metadata": {},
   "source": [
    "# Toets Programmeren\r\n",
    "\r\n",
    "# VERGEET NIET OP TE SLAAN NA HET MAKEN VAN ELKE OPDRACHT!\r\n",
    "# VERGEET DE CODE NIET UIT TE VOEREN!"
   ]
  },
  {
   "cell_type": "markdown",
   "metadata": {},
   "source": [
    "### Vraag 1:\r\n",
    "Zorg dat de uitkomst van de uitdrukking `CambreurCambreurCambreur` is."
   ]
  },
  {
   "cell_type": "code",
   "execution_count": null,
   "metadata": {},
   "outputs": [],
   "source": [
    "x = \r\n",
    "y = \r\n",
    "z = \r\n",
    "print(x * int(y * z))"
   ]
  },
  {
   "cell_type": "markdown",
   "metadata": {},
   "source": [
    "### Vraag 2:\r\n",
    "Zorg dat de uitkomst van de uitdrukking `42FalsePythonPython` is."
   ]
  },
  {
   "cell_type": "code",
   "execution_count": null,
   "metadata": {},
   "outputs": [],
   "source": [
    "\r\n",
    "\r\n",
    "print(str(x - y) + str(z) + a * b)"
   ]
  },
  {
   "cell_type": "markdown",
   "metadata": {},
   "source": [
    "### Vraag 3:\r\n",
    "Zorg dat de uitkomst van de uitdrukking `True` is."
   ]
  },
  {
   "cell_type": "code",
   "execution_count": null,
   "metadata": {},
   "outputs": [],
   "source": [
    "\r\n",
    "\r\n",
    "print(x + (y * z) < 250 and z > 200)"
   ]
  },
  {
   "cell_type": "markdown",
   "metadata": {},
   "source": [
    "### Vraag 4:\r\n",
    "Om een auto te mogen kopen moet je tenminste €15000.- hebben en 18 jaar oud zijn. Zorg dat de uitkomst van het algoritme `Ja, ik mag een auto kopen` is. (Je moet hiervoor 2 `variabelen` gebruiken)"
   ]
  },
  {
   "cell_type": "code",
   "execution_count": null,
   "metadata": {},
   "outputs": [],
   "source": [
    "\r\n",
    "\r\n",
    "if():\r\n",
    "    print(\"Ja, ik mag een auto kopen\")\r\n",
    "else:\r\n",
    "    print(\"Nee, ik mag geen auto kopen\")"
   ]
  },
  {
   "cell_type": "markdown",
   "metadata": {},
   "source": [
    "### Vraag 5:\r\n",
    "Jan, Piet & Willem willen samen op reis gaan. Hiervoor moeten ze samen tenminste €1250,- hebben. Maak een programma die checkt of ze genoeg geld hebben om op reis te gaan. Maak hiervoor 3 variabelen aan die elk het spaargeld van Jan, Piet & Willem bijhoudt. Schrijf vervolgens zelf een `If statement` die checkt of dit totaalbedrag genoeg is om op reis te gaan. (Kijk goed naar de andere opdrachten en zorg dat de code op de juiste plek staat! Vergeet de **:** niet!)"
   ]
  },
  {
   "cell_type": "code",
   "execution_count": null,
   "metadata": {},
   "outputs": [],
   "source": []
  },
  {
   "cell_type": "markdown",
   "metadata": {},
   "source": [
    "### Vraag 6:\r\n",
    "Maak een algoritme die verteld wanneer een nummer deelbaar is door 4, 6 of geen van beide. (maak gebruik van `modulo` (%))"
   ]
  },
  {
   "cell_type": "code",
   "execution_count": null,
   "metadata": {},
   "outputs": [],
   "source": [
    "num = \r\n",
    "\r\n",
    "if():\r\n",
    "    print(\"Nummer is deelbaar door 4\")\r\n",
    "elif():\r\n",
    "    print(\"Nummer is deelbaar door 6\")\r\n",
    "else:\r\n",
    "    print(\"Nummer is niet deelbaar door 4 of 6\")"
   ]
  },
  {
   "cell_type": "markdown",
   "metadata": {},
   "source": [
    "### Vraag 7:\r\n",
    "Maak een algoritme die kijkt of 2 nummers gelijk aan elkaar zijn **EN** dat tenminste 1 van de nummers positief is."
   ]
  },
  {
   "cell_type": "code",
   "execution_count": null,
   "metadata": {},
   "outputs": [],
   "source": [
    "num1 = \r\n",
    "num2 = \r\n",
    "\r\n",
    "if():\r\n",
    "    print(\"De nummers zijn gelijk aan elkaar en een van de twee nummers is positief\")\r\n",
    "else:\r\n",
    "    print(\"De nummers zijn niet gelijk aan elkaar of beide zijn negatief\")"
   ]
  },
  {
   "cell_type": "markdown",
   "metadata": {},
   "source": [
    "### Vraag 8:\r\n",
    "Maak een lijstje met de waardes `1, 2, 3, 5, 7, 13` en print deze uit."
   ]
  },
  {
   "cell_type": "code",
   "execution_count": null,
   "metadata": {},
   "outputs": [],
   "source": []
  },
  {
   "cell_type": "markdown",
   "metadata": {},
   "source": [
    "### Vraag 9:\r\n",
    "Maak een lijstje met de waardes `10, 20, 30`, voeg vervolgens de waarde `40` toe aan het lijstje en print dan het lijstje uit."
   ]
  },
  {
   "cell_type": "code",
   "execution_count": null,
   "metadata": {},
   "outputs": [],
   "source": []
  },
  {
   "cell_type": "markdown",
   "metadata": {},
   "source": [
    "### Vraag 10:\r\n",
    "Maak een lijstje `sport` en de waardes `Voetbal, Handbal, Banaan`. Haal vervolgens de waarde `Banaan` uit het lijstje en voeg de waarde `Hockey` toe. Print ten slotte het lijstje uit."
   ]
  },
  {
   "cell_type": "code",
   "execution_count": null,
   "metadata": {},
   "outputs": [],
   "source": []
  },
  {
   "cell_type": "markdown",
   "metadata": {},
   "source": [
    "### Vraag 11:\r\n",
    "Maak de `for-loop` af zodat alleen even waardes uit het lijstje worden uitgeprint."
   ]
  },
  {
   "cell_type": "code",
   "execution_count": null,
   "metadata": {},
   "outputs": [],
   "source": [
    "nummers = [-32, 14, -47, 33, -32, -56, 51, 59, -77, 8]\r\n",
    "\r\n",
    "for ? in ?:\r\n",
    "    if(?):\r\n",
    "        print(?)"
   ]
  },
  {
   "cell_type": "markdown",
   "metadata": {},
   "source": [
    "### Vraag 12:\r\n",
    "Maak een lijstje en gebruik vervolgens een `for-loop` om alle waardes uit het lijstje onder elkaar uit te printen."
   ]
  },
  {
   "cell_type": "code",
   "execution_count": null,
   "metadata": {},
   "outputs": [],
   "source": []
  },
  {
   "cell_type": "markdown",
   "metadata": {},
   "source": [
    "### Vraag 13:\r\n",
    "Maak een algoritme die alle oneven waardes uitprint in het bereik van 1 tot en met 100. (Maak gebruik van een `for-range` loop)"
   ]
  },
  {
   "cell_type": "code",
   "execution_count": null,
   "metadata": {},
   "outputs": [],
   "source": []
  },
  {
   "cell_type": "markdown",
   "metadata": {},
   "source": [
    "### Opdracht 14:\r\n",
    "Maak een algoritme die alle waardes deelbaar door 7 **of** negatief zijn uitprint in het bereik van -100 tot en met 100."
   ]
  },
  {
   "cell_type": "code",
   "execution_count": null,
   "metadata": {},
   "outputs": [],
   "source": []
  },
  {
   "cell_type": "markdown",
   "metadata": {},
   "source": [
    "### Opdracht 15:\r\n",
    "Maak een algoritme die alle even waardes tot en met 100 bij elkaar **optelt**."
   ]
  },
  {
   "cell_type": "code",
   "execution_count": null,
   "metadata": {},
   "outputs": [],
   "source": [
    "totaal = 0\r\n",
    "\r\n",
    "\r\n",
    "\r\n",
    "print(totaal)"
   ]
  }
 ],
 "metadata": {
  "interpreter": {
   "hash": "89aee6942dff7a18974bb50e1d06d5f53d62a755afa5f3e07738ada7c8d88558"
  },
  "kernelspec": {
   "display_name": "Python 3.9.2 64-bit",
   "name": "python3"
  },
  "language_info": {
   "name": "python",
   "version": ""
  },
  "orig_nbformat": 4
 },
 "nbformat": 4,
 "nbformat_minor": 2
}